{
 "cells": [
  {
   "cell_type": "code",
   "execution_count": 1,
   "metadata": {},
   "outputs": [],
   "source": [
    "import os\n",
    "import random\n",
    "import shutil"
   ]
  },
  {
   "cell_type": "code",
   "execution_count": 2,
   "metadata": {},
   "outputs": [],
   "source": [
    "data_folder = 'UsevillaBone/original'\n",
    "labels_folder = 'UsevillaBone/segmented'\n",
    "train_folder_original = 'UsevillaBone/train/original'\n",
    "train_folder_segmented = 'UsevillaBone/train/segmented'\n",
    "test_folder_original = 'UsevillaBone/test/original'\n",
    "test_folder_segmented = 'UsevillaBone/test/segmented'\n",
    "split_ratio = 0.8"
   ]
  },
  {
   "cell_type": "code",
   "execution_count": 3,
   "metadata": {},
   "outputs": [],
   "source": [
    "folders = [train_folder_original, train_folder_segmented, test_folder_original, test_folder_segmented]"
   ]
  },
  {
   "cell_type": "code",
   "execution_count": 4,
   "metadata": {},
   "outputs": [],
   "source": [
    "for fol in folders:\n",
    "    if not os.path.exists(fol):\n",
    "        os.makedirs(fol)"
   ]
  },
  {
   "cell_type": "code",
   "execution_count": 5,
   "metadata": {},
   "outputs": [],
   "source": [
    "data_files = os.listdir(data_folder)\n",
    "\n",
    "random.shuffle(data_files)\n",
    "\n",
    "train_count = int(len(data_files) * split_ratio)\n",
    "test_count = len(data_files) - train_count"
   ]
  },
  {
   "cell_type": "code",
   "execution_count": 6,
   "metadata": {},
   "outputs": [],
   "source": [
    "for i, file_name in enumerate(data_files):\n",
    "    data_file_path = os.path.join(data_folder, file_name)\n",
    "    labels_file_path = os.path.join(labels_folder, file_name)\n",
    "\n",
    "    if i < train_count:\n",
    "        shutil.copy(data_file_path, train_folder_original)\n",
    "        shutil.copy(labels_file_path, train_folder_segmented)\n",
    "    else:\n",
    "        shutil.copy(data_file_path, test_folder_original)\n",
    "        shutil.copy(labels_file_path, test_folder_segmented)"
   ]
  }
 ],
 "metadata": {
  "kernelspec": {
   "display_name": "Python 3",
   "language": "python",
   "name": "python3"
  },
  "language_info": {
   "codemirror_mode": {
    "name": "ipython",
    "version": 3
   },
   "file_extension": ".py",
   "mimetype": "text/x-python",
   "name": "python",
   "nbconvert_exporter": "python",
   "pygments_lexer": "ipython3",
   "version": "3.10.6"
  },
  "orig_nbformat": 4
 },
 "nbformat": 4,
 "nbformat_minor": 2
}

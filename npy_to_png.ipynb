{
 "cells": [
  {
   "cell_type": "code",
   "execution_count": 20,
   "metadata": {},
   "outputs": [],
   "source": [
    "import os\n",
    "import numpy as np\n",
    "import matplotlib.pyplot as plt\n",
    "import matplotlib.image as mpimg\n",
    "import matplotlib.cm as cm"
   ]
  },
  {
   "cell_type": "code",
   "execution_count": 21,
   "metadata": {},
   "outputs": [],
   "source": [
    "folder_path_original = 'UsevillaBone/old/original/'\n",
    "output_folder_original = 'UsevillaBone/original'\n",
    "\n",
    "folder_path_segmented = 'UsevillaBone/old/segmented/'\n",
    "output_folder_segmented = 'UsevillaBone/segmented'"
   ]
  },
  {
   "cell_type": "code",
   "execution_count": 22,
   "metadata": {},
   "outputs": [],
   "source": [
    "npy_files_original = [f for f in os.listdir(folder_path_original) if f.endswith('.npy')]\n",
    "npy_files_segmented = [f for f in os.listdir(folder_path_segmented) if f.endswith('.npy')]"
   ]
  },
  {
   "cell_type": "code",
   "execution_count": 23,
   "metadata": {},
   "outputs": [],
   "source": [
    "for npy_file in npy_files_original:\n",
    "    # Load the .npy file\n",
    "    file_path = os.path.join(folder_path_original, npy_file)\n",
    "    data = np.load(file_path)\n",
    "\n",
    "    # Rescale the data to the range [0, 1]\n",
    "    #rescaled_data = (data - np.min(data)) / (np.max(data) - np.min(data))\n",
    "\n",
    "    # Apply a colormap (e.g., grayscale)\n",
    "    cmap = cm.gray\n",
    "\n",
    "    # Create a figure and axis\n",
    "    fig, ax = plt.subplots()\n",
    "\n",
    "    # Display the CT scan image\n",
    "    ax.imshow(data, cmap=cmap)\n",
    "\n",
    "    # Remove axis and border\n",
    "    ax.axis('off')\n",
    "\n",
    "    # Save the figure as a PNG image without extra whitespace\n",
    "    output_file = npy_file.replace('.npy', '.png')\n",
    "    output_path = os.path.join(output_folder_original, output_file)\n",
    "    plt.savefig(output_path, bbox_inches='tight', pad_inches=0)\n",
    "\n",
    "    # Close the figure\n",
    "    plt.close(fig)"
   ]
  },
  {
   "cell_type": "code",
   "execution_count": 24,
   "metadata": {},
   "outputs": [],
   "source": [
    "for npy_file in npy_files_segmented:\n",
    "    # Load the .npy file\n",
    "    file_path = os.path.join(folder_path_segmented, npy_file)\n",
    "    data = np.load(file_path)\n",
    "\n",
    "\n",
    "    # Rescale the data to the range [0, 1]\n",
    "    rescaled_data = (data - np.min(data)) / (np.max(data) - np.min(data))\n",
    "\n",
    "    # Apply a colormap (e.g., grayscale)\n",
    "    cmap = cm.gray\n",
    "\n",
    "    # Create a figure and axis\n",
    "    fig, ax = plt.subplots()\n",
    "\n",
    "    # Display the CT scan image\n",
    "    ax.imshow(rescaled_data, cmap=cmap)\n",
    "\n",
    "    # Remove axis and border\n",
    "    ax.axis('off')\n",
    "\n",
    "    # Save the figure as a PNG image without extra whitespace\n",
    "    output_file = npy_file.replace('.npy', '.png')\n",
    "    output_path = os.path.join(output_folder_segmented, output_file)\n",
    "    plt.savefig(output_path, bbox_inches='tight', pad_inches=0)\n",
    "\n",
    "    # Close the figure\n",
    "    plt.close(fig)\n"
   ]
  }
 ],
 "metadata": {
  "kernelspec": {
   "display_name": "Python 3",
   "language": "python",
   "name": "python3"
  },
  "language_info": {
   "codemirror_mode": {
    "name": "ipython",
    "version": 3
   },
   "file_extension": ".py",
   "mimetype": "text/x-python",
   "name": "python",
   "nbconvert_exporter": "python",
   "pygments_lexer": "ipython3",
   "version": "3.10.6"
  },
  "orig_nbformat": 4
 },
 "nbformat": 4,
 "nbformat_minor": 2
}

{
 "cells": [
  {
   "cell_type": "code",
   "execution_count": 77,
   "metadata": {},
   "outputs": [],
   "source": [
    "import os"
   ]
  },
  {
   "cell_type": "code",
   "execution_count": null,
   "metadata": {},
   "outputs": [],
   "source": [
    "all_folders = ['UsevillaBone/test/original', \n",
    "                'UsevillaBone/test/segmented',\n",
    "                'UsevillaBone/train/original',\n",
    "                'UsevillaBone/train/segmented']"
   ]
  },
  {
   "cell_type": "code",
   "execution_count": null,
   "metadata": {},
   "outputs": [],
   "source": [
    "for folder_path in all_folders:\n",
    "    files = os.listdir(folder_path)\n",
    "\n",
    "    for i, filename in enumerate(files):\n",
    "        if not os.path.isdir(os.path.join(folder_path, filename)):\n",
    "            # Split the file extension from the filename\n",
    "            name, extension = os.path.splitext(filename)\n",
    "\n",
    "            # Construct the new filename with a number between 0 and the total number of files\n",
    "            new_filename = f\"{i}{extension}\"\n",
    "\n",
    "            # Rename the file\n",
    "            os.rename(os.path.join(folder_path, filename), os.path.join(folder_path, new_filename))"
   ]
  }
 ],
 "metadata": {
  "kernelspec": {
   "display_name": "Python 3",
   "language": "python",
   "name": "python3"
  },
  "language_info": {
   "codemirror_mode": {
    "name": "ipython",
    "version": 3
   },
   "file_extension": ".py",
   "mimetype": "text/x-python",
   "name": "python",
   "nbconvert_exporter": "python",
   "pygments_lexer": "ipython3",
   "version": "3.10.6"
  },
  "orig_nbformat": 4
 },
 "nbformat": 4,
 "nbformat_minor": 2
}

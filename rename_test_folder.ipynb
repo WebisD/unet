{
 "cells": [
  {
   "cell_type": "code",
   "execution_count": 77,
   "metadata": {},
   "outputs": [],
   "source": [
    "import os"
   ]
  },
  {
   "cell_type": "code",
   "execution_count": 78,
   "metadata": {},
   "outputs": [],
   "source": [
    "test_folder_original = 'UsevillaBone/test/original'\n",
    "test_folder_segmented = 'UsevillaBone/test/segmented'\n",
    "\n",
    "train_folder_original = 'UsevillaBone/train/original'\n",
    "train_folder_segmented = 'UsevillaBone/train/segmented'"
   ]
  },
  {
   "cell_type": "code",
   "execution_count": 79,
   "metadata": {},
   "outputs": [],
   "source": [
    "files_test_original = os.listdir(test_folder_original)\n",
    "files_test_segmented = os.listdir(test_folder_segmented)\n",
    "\n",
    "files_train_original = os.listdir(train_folder_original)\n",
    "files_train_segmented = os.listdir(train_folder_segmented)"
   ]
  },
  {
   "cell_type": "code",
   "execution_count": 80,
   "metadata": {},
   "outputs": [],
   "source": [
    "for i in range(len(files_test_original)):\n",
    "    name, extension = os.path.splitext(files_test_original[i])\n",
    "    new_filename = str(i) + extension\n",
    "    os.rename(os.path.join(test_folder_original, files_test_original[i]), os.path.join(test_folder_original, new_filename))"
   ]
  },
  {
   "cell_type": "code",
   "execution_count": 81,
   "metadata": {},
   "outputs": [],
   "source": [
    "for i in range(len(files_test_segmented)):\n",
    "    name, extension = os.path.splitext(files_test_segmented[i])\n",
    "    new_filename = str(i) + extension\n",
    "    os.rename(os.path.join(test_folder_segmented, files_test_segmented[i]), os.path.join(test_folder_segmented, new_filename))"
   ]
  },
  {
   "cell_type": "code",
   "execution_count": 82,
   "metadata": {},
   "outputs": [
    {
     "data": {
      "text/plain": [
       "216"
      ]
     },
     "execution_count": 82,
     "metadata": {},
     "output_type": "execute_result"
    }
   ],
   "source": [
    "len(files_train_original)"
   ]
  }
 ],
 "metadata": {
  "kernelspec": {
   "display_name": "Python 3",
   "language": "python",
   "name": "python3"
  },
  "language_info": {
   "codemirror_mode": {
    "name": "ipython",
    "version": 3
   },
   "file_extension": ".py",
   "mimetype": "text/x-python",
   "name": "python",
   "nbconvert_exporter": "python",
   "pygments_lexer": "ipython3",
   "version": "3.10.6"
  },
  "orig_nbformat": 4
 },
 "nbformat": 4,
 "nbformat_minor": 2
}
